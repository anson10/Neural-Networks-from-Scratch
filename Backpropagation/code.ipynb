{
 "cells": [
  {
   "cell_type": "markdown",
   "metadata": {},
   "source": [
    "### BASIC BACKPROPAGATION EXAMPLE USING 2-LAYER NEURAL NETWORK"
   ]
  },
  {
   "cell_type": "code",
   "execution_count": 4,
   "metadata": {},
   "outputs": [
    {
     "name": "stdout",
     "output_type": "stream",
     "text": [
      "Predicted Output after training:\n",
      "[[0.20369158]\n",
      " [0.73603066]\n",
      " [0.73604444]\n",
      " [0.34370702]]\n"
     ]
    }
   ],
   "source": [
    "import numpy as np\n",
    "\n",
    "# Sigmoid activation function\n",
    "def sigmoid(x):\n",
    "    return 1 / (1 + np.exp(-x))\n",
    "\n",
    "# Derivative of sigmoid for backpropagation\n",
    "def sigmoid_derivative(x):\n",
    "    return x * (1 - x)\n",
    "\n",
    "# Training dataset (XOR problem)\n",
    "inputs = np.array([[0, 0], [0, 1], [1, 0], [1, 1]])  # Input features\n",
    "labels = np.array([[0], [1], [1], [0]])              # Expected output (XOR)\n",
    "\n",
    "# Initialize weights randomly\n",
    "np.random.seed(42)\n",
    "weights_input_hidden = np.random.rand(2, 2)  # 2 inputs, 2 neurons in hidden layer\n",
    "weights_hidden_output = np.random.rand(2, 1)  # 2 neurons, 1 output neuron\n",
    "\n",
    "# Learning rate\n",
    "learning_rate = 0.1\n",
    "\n",
    "# Training process\n",
    "for epoch in range(10000):  # Train for 10,000 epochs\n",
    "    # Forward pass\n",
    "    hidden_input = np.dot(inputs, weights_input_hidden)  # Input to hidden layer\n",
    "    hidden_output = sigmoid(hidden_input)                # Output from hidden layer\n",
    "\n",
    "    final_input = np.dot(hidden_output, weights_hidden_output)  # Input to output layer\n",
    "    predicted_output = sigmoid(final_input)                     # Output from output layer\n",
    "\n",
    "    # Calculate error (difference between predicted and actual output)\n",
    "    error = labels - predicted_output\n",
    "\n",
    "    # Backpropagation\n",
    "    d_predicted_output = error * sigmoid_derivative(predicted_output)  # Derivative of loss w.r.t. output\n",
    "    error_hidden_layer = d_predicted_output.dot(weights_hidden_output.T)  # Error propagated to hidden layer\n",
    "    d_hidden_output = error_hidden_layer * sigmoid_derivative(hidden_output)  # Derivative of loss w.r.t. hidden layer\n",
    "\n",
    "    # Update weights (gradient descent)\n",
    "    weights_hidden_output += hidden_output.T.dot(d_predicted_output) * learning_rate  # Update weights between hidden and output\n",
    "    weights_input_hidden += inputs.T.dot(d_hidden_output) * learning_rate  # Update weights between input and hidden\n",
    "\n",
    "# Test the network after training\n",
    "print(\"Predicted Output after training:\")\n",
    "print(predicted_output)\n"
   ]
  },
  {
   "cell_type": "code",
   "execution_count": null,
   "metadata": {},
   "outputs": [],
   "source": []
  }
 ],
 "metadata": {
  "kernelspec": {
   "display_name": "Python 3 (ipykernel)",
   "language": "python",
   "name": "python3"
  },
  "language_info": {
   "codemirror_mode": {
    "name": "ipython",
    "version": 3
   },
   "file_extension": ".py",
   "mimetype": "text/x-python",
   "name": "python",
   "nbconvert_exporter": "python",
   "pygments_lexer": "ipython3",
   "version": "3.11.9"
  }
 },
 "nbformat": 4,
 "nbformat_minor": 4
}
