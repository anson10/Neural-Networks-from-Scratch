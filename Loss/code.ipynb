{
 "cells": [
  {
   "cell_type": "code",
   "execution_count": 6,
   "id": "500dd825-755b-40ed-ad9d-280a4388863f",
   "metadata": {},
   "outputs": [],
   "source": [
    "import numpy as np\n",
    "\n",
    "softmax_outputs = np.array([[0.7, 0.1, 0.2],\n",
    "                           [0.1, 0.5, 0.4],\n",
    "                           [0.02, 0.9, 0.08]])\n",
    "\n",
    "class_targets = np.array([[1, 0, 0],\n",
    "                         [0, 1, 0],\n",
    "                         [0, 1, 0]])"
   ]
  },
  {
   "cell_type": "code",
   "execution_count": 1,
   "id": "27f1bc3c-b53e-4ba3-a08b-7abd48ec357c",
   "metadata": {},
   "outputs": [],
   "source": [
    "# CATEGORICAL CROSS-ENTROPY LOSS\n",
    "\n",
    "class Loss:\n",
    "    def calculate(self, output, y):\n",
    "        sample_losses = self.forward(output, y)\n",
    "        data_loss = np.mean(sample_losses)\n",
    "        return data_loss"
   ]
  },
  {
   "cell_type": "code",
   "execution_count": 3,
   "id": "36c95933-aa39-4d82-987b-5c17edf79399",
   "metadata": {},
   "outputs": [],
   "source": [
    "class Loss_CategoricalCrossEntropy(Loss):\n",
    "    def forward(self, y_pred, y_true):\n",
    "        samples = len(y_pred)\n",
    "        #clip data to prevent division by 0\n",
    "        y_pred_clipped = np.clip(y_pred, 1e-7, 1-1e-7)\n",
    "        #probability for target values\n",
    "        if len(y_true.shape) == 1:\n",
    "            correct_confidences = y_pred_clipped[\n",
    "            range(samples),\n",
    "            y_true\n",
    "            ]\n",
    "        # mask values for one-hot encoded labels\n",
    "        elif len(y_true.shape) == 2:\n",
    "            correct_confidences = np.sum( \n",
    "            y_pred_clipped * y_true,\n",
    "            axis=1\n",
    "            )\n",
    "        # Losses\n",
    "        negative_log_likelihoods = -np.log(correct_confidences)\n",
    "        return negative_log_likelihoods\n",
    "            "
   ]
  },
  {
   "cell_type": "code",
   "execution_count": 7,
   "id": "d1eec15a-cd27-4839-a6db-279bfc80fa26",
   "metadata": {},
   "outputs": [
    {
     "name": "stdout",
     "output_type": "stream",
     "text": [
      "0.38506088005216804\n"
     ]
    }
   ],
   "source": [
    "loss_function = Loss_CategoricalCrossEntropy()\n",
    "loss = loss_function.calculate(softmax_outputs, class_targets)\n",
    "print(loss)"
   ]
  },
  {
   "cell_type": "code",
   "execution_count": 8,
   "id": "f3bf2d70-dd05-42f8-819b-22f81aa993e6",
   "metadata": {},
   "outputs": [],
   "source": [
    "# COMBINING THE ENTIRE CODE "
   ]
  },
  {
   "cell_type": "code",
   "execution_count": 9,
   "id": "52d96768-e190-4871-9ebd-1cdde08525f2",
   "metadata": {},
   "outputs": [],
   "source": [
    "import nnfs\n",
    "from nnfs.datasets import spiral_data"
   ]
  },
  {
   "cell_type": "code",
   "execution_count": 10,
   "id": "c9ecf705-7574-4c19-8cd0-fa1f193a2562",
   "metadata": {},
   "outputs": [],
   "source": [
    "nnfs.init()"
   ]
  },
  {
   "cell_type": "code",
   "execution_count": 12,
   "id": "fde8f73b-3e96-4771-b6bf-07f9e264bb91",
   "metadata": {},
   "outputs": [
    {
     "name": "stdout",
     "output_type": "stream",
     "text": [
      "[[0.33333334 0.33333334 0.33333334]\n",
      " [0.3333332  0.3333332  0.33333364]\n",
      " [0.3333329  0.33333293 0.3333342 ]\n",
      " [0.3333326  0.33333263 0.33333477]\n",
      " [0.33333233 0.3333324  0.33333528]]\n",
      "Loss :1.0986104011535645\n"
     ]
    }
   ],
   "source": [
    "# DENSE LAYER\n",
    "class Layer_Dense:\n",
    "    def __init__(self, n_inputs, n_neurons):\n",
    "        #initalise weights and biases\n",
    "        self.weights = 0.01 * np.random.randn(n_inputs, n_neurons)\n",
    "        self.biases = np.zeros((1, n_neurons))\n",
    "\n",
    "    def forward(self, inputs):\n",
    "        self.output = np.dot(inputs, self.weights) + self.biases\n",
    "\n",
    "#RELU ACTIVATION\n",
    "class Activation_RELU:\n",
    "    def forward(self, inputs):\n",
    "        self.output = np.maximum(0, inputs)\n",
    "\n",
    "# SOFTMAX ACTIVATION\n",
    "class Activation_Softmax:\n",
    "    def forward(self, inputs):\n",
    "        # unnormalized Probabilites\n",
    "        exp_values = np.exp(inputs - np.max(inputs, axis=1, \n",
    "                                            keepdims=True))\n",
    "        \n",
    "        # Normalize the values\n",
    "        probabilities = exp_values / np.sum(exp_values, axis=1,\n",
    "                                    keepdims=True)\n",
    "        \n",
    "        self.output = probabilities\n",
    "\n",
    "# COMMON LOSS CLASS\n",
    "class Loss:\n",
    "    def calculate(self, output, y):\n",
    "        sample_losses = self.forward(output, y)\n",
    "        data_loss = np.mean(sample_losses)\n",
    "        return data_loss\n",
    "\n",
    "# CROSS ENTROPY LOSS\n",
    "class Loss_CategoricalCrossEntropy(Loss):\n",
    "    def forward(self, y_pred, y_true):\n",
    "        samples = len(y_pred)\n",
    "        #clip data to prevent division by 0\n",
    "        y_pred_clipped = np.clip(y_pred, 1e-7, 1-1e-7)\n",
    "        #probability for target values\n",
    "        if len(y_true.shape) == 1:\n",
    "            correct_confidences = y_pred_clipped[\n",
    "            range(samples),\n",
    "            y_true\n",
    "            ]\n",
    "        # mask values for one-hot encoded labels\n",
    "        elif len(y_true.shape) == 2:\n",
    "            correct_confidences = np.sum( \n",
    "            y_pred_clipped * y_true,\n",
    "            axis=1\n",
    "            )\n",
    "        # Losses\n",
    "        negative_log_likelihoods = -np.log(correct_confidences)\n",
    "        return negative_log_likelihoods\n",
    "\n",
    "# CREATE DATASET \n",
    "X, y = spiral_data(samples=100, classes=3)\n",
    "\n",
    "#create dense layer (2 input features, 3 output values)\n",
    "dense1 = Layer_Dense(2,3)\n",
    "\n",
    "#using RELU activation\n",
    "activation1 = Activation_RELU()\n",
    "\n",
    "#second dense layer with 3 input and features(as this the output of previous layer) and 3 output values\n",
    "dense2 = Layer_Dense(3,3)\n",
    "\n",
    "#using softmax acttvation\n",
    "activation2 = Activation_Softmax()\n",
    "\n",
    "#create loss function\n",
    "loss_function = Loss_CategoricalCrossEntropy()\n",
    "\n",
    "#perform forward pass\n",
    "dense1.forward(X)\n",
    "\n",
    "activation1.forward(dense1.output)\n",
    "\n",
    "dense2.forward(activation1.output)\n",
    "\n",
    "activation2.forward(dense2.output)\n",
    "\n",
    "print(activation2.output[:5])\n",
    "\n",
    "loss = loss_function.calculate(activation2.output, y)\n",
    "\n",
    "print(f'Loss :{loss}')"
   ]
  },
  {
   "cell_type": "code",
   "execution_count": 14,
   "id": "724148d7-e9c7-440c-aa8b-56bbb6b9f70e",
   "metadata": {},
   "outputs": [
    {
     "name": "stdout",
     "output_type": "stream",
     "text": [
      "acc: 0.6666666666666666\n"
     ]
    }
   ],
   "source": [
    "# ACCURACY CALCULATION\n",
    "\n",
    "# probabilties of 3 samples\n",
    "softmax_outputs = np.array([[0.7, 0.2, 0.1],\n",
    "                            [0.5, 0.1, 0.4],\n",
    "                            [0.02, 0.9, 0.08]])\n",
    "#targets \n",
    "class_targets = np.array([0,1,1])\n",
    "\n",
    "#Calculate values along second axis (axis of index 1)\n",
    "predictions = np.argmax(softmax_outputs, axis = 1 )\n",
    "# If targets are one-hot encoded - convert them\n",
    "if len (class_targets.shape) == 2:\n",
    "    class_targets = np.argmax(class_targets, axis = 1 )\n",
    "# True evaluates to 1; False to 0\n",
    "accuracy = np.mean(predictions == class_targets)\n",
    "print ( 'acc:' , accuracy)"
   ]
  },
  {
   "cell_type": "code",
   "execution_count": 15,
   "id": "681b3425-5ca4-441b-a6da-df9e255ff7ab",
   "metadata": {},
   "outputs": [
    {
     "name": "stdout",
     "output_type": "stream",
     "text": [
      "acc: 0.34\n"
     ]
    }
   ],
   "source": [
    "# Calculate accuracy from output of activation2 and targets\n",
    "# calculate values along first axis\n",
    "predictions = np.argmax(activation2.output, axis = 1 )\n",
    "if len (y.shape) == 2 :\n",
    "    y = np.argmax(y, axis = 1 )\n",
    "accuracy = np.mean(predictions == y)\n",
    "# Print accuracy\n",
    "print ( 'acc:' , accuracy)"
   ]
  },
  {
   "cell_type": "code",
   "execution_count": null,
   "id": "17095662-a7e8-48b5-8796-807f3683d4a2",
   "metadata": {},
   "outputs": [],
   "source": []
  }
 ],
 "metadata": {
  "kernelspec": {
   "display_name": "Python 3 (ipykernel)",
   "language": "python",
   "name": "python3"
  },
  "language_info": {
   "codemirror_mode": {
    "name": "ipython",
    "version": 3
   },
   "file_extension": ".py",
   "mimetype": "text/x-python",
   "name": "python",
   "nbconvert_exporter": "python",
   "pygments_lexer": "ipython3",
   "version": "3.11.9"
  }
 },
 "nbformat": 4,
 "nbformat_minor": 5
}
