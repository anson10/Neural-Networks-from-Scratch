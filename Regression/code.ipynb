{
 "cells": [
  {
   "cell_type": "code",
   "execution_count": 2,
   "metadata": {},
   "outputs": [],
   "source": [
    "# LINEAR ACTIVATION\n",
    "import numpy as np\n",
    "class Activation_Layer:\n",
    "    def forward(self, inputs):\n",
    "        self.inputs = inputs\n",
    "        self.outputs = inputs\n",
    "        \n",
    "    def backward(self, dvalues):\n",
    "        self.dvalues = dvalues.copy()\n",
    "    "
   ]
  },
  {
   "cell_type": "markdown",
   "metadata": {},
   "source": [
    "This above linear function does not modify its input and passes it to the output: y=x ."
   ]
  },
  {
   "cell_type": "code",
   "execution_count": null,
   "metadata": {},
   "outputs": [],
   "source": [
    "# MEAN SQUARED ERROR LOSS CODE\n",
    "\n",
    "class Loss_MeanSquaredError(Loss):\n",
    "    def forward(self, y_pred, y_true):\n",
    "        sample_losses = np.mean((y_true - y_pred)**2, axis=-1)\n",
    "        return sample_losses\n",
    "    \n",
    "    def backward(self, dvalues, y_true):\n",
    "        # no of samples\n",
    "        samples = len(dvalues)\n",
    "        outputs = len(dvalues[0])\n",
    "        \n",
    "        #gradients\n",
    "        self.dinputs = -2 * (y_true - dvalues) / outputs\n",
    "        self.dinputs = self.dinputs / samples\n",
    "    "
   ]
  },
  {
   "cell_type": "code",
   "execution_count": null,
   "metadata": {},
   "outputs": [],
   "source": [
    "# MEAN ABSOLUTE ERROR LOSS CODE\n",
    "\n",
    "# Mean Absolute Error loss\n",
    "class Loss_MeanAbsoluteError (Loss): # L1 loss\n",
    "    def forward ( self , y_pred , y_true ):\n",
    "    # Calculate loss\n",
    "        sample_losses = np.mean(np.abs(y_true - y_pred), axis =- 1 )\n",
    "        return sample_losses\n",
    "\n",
    "# Backward pass\n",
    "def backward (self, dvalues, y_true):\n",
    "# Number of samples\n",
    "    samples = len (dvalues)\n",
    "    #Number of outputs in every sample\n",
    "    # We'll use the first sample to count them\n",
    "    outputs = len (dvalues[0])\n",
    "    # Calculate gradient\n",
    "    self.dinputs = np.sign(y_true - dvalues) / outputs\n",
    "    # Normalize gradient\n",
    "    self.dinputs = self.dinputs / samples"
   ]
  },
  {
   "cell_type": "code",
   "execution_count": null,
   "metadata": {},
   "outputs": [],
   "source": []
  }
 ],
 "metadata": {
  "kernelspec": {
   "display_name": "tf",
   "language": "python",
   "name": "python3"
  },
  "language_info": {
   "codemirror_mode": {
    "name": "ipython",
    "version": 3
   },
   "file_extension": ".py",
   "mimetype": "text/x-python",
   "name": "python",
   "nbconvert_exporter": "python",
   "pygments_lexer": "ipython3",
   "version": "3.11.10"
  }
 },
 "nbformat": 4,
 "nbformat_minor": 2
}
