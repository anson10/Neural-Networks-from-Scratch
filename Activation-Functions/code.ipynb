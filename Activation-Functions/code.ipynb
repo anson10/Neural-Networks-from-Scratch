{
 "cells": [
  {
   "cell_type": "code",
   "execution_count": 3,
   "metadata": {},
   "outputs": [],
   "source": [
    "# RELU ACTIVATION FUNCTION\n",
    "import numpy as np\n",
    "import nnfs\n",
    "from nnfs.datasets import spiral_data\n",
    "\n",
    "class Activation_RELU:\n",
    "    \n",
    "    def forward_pass(self, inputs):\n",
    "        self.output = np.maximum(0, inputs)\n",
    "\n"
   ]
  },
  {
   "cell_type": "code",
   "execution_count": 8,
   "metadata": {},
   "outputs": [],
   "source": [
    "class Layer_Dense:\n",
    "\n",
    "    def __init__(self, n_inputs, n_neurons):\n",
    "        #Init weights, biases\n",
    "        self.weights = 0.01 * np.random.randn(n_inputs, n_neurons)\n",
    "        self.biases = np.zeros((1, n_neurons))\n",
    "\n",
    "    # Forward pass\n",
    "    def forward_pass(self, inputs):\n",
    "        # Calculate output values from inputs, weights and biases\n",
    "        self.output = np.dot(inputs, self.weights) + self.biases\n",
    "        "
   ]
  },
  {
   "cell_type": "code",
   "execution_count": 9,
   "metadata": {},
   "outputs": [],
   "source": [
    "nnfs.init()"
   ]
  },
  {
   "cell_type": "code",
   "execution_count": 10,
   "metadata": {},
   "outputs": [],
   "source": [
    "# Create Dataset\n",
    "X, y = spiral_data(samples=100, classes=3)\n",
    "\n",
    "# Layer 1 -> 2 input and 3 output values\n",
    "dense1 = Layer_Dense(2, 3)\n",
    "\n",
    "# RELU use\n",
    "activation1 = Activation_RELU()\n",
    "\n",
    "dense1.forward_pass(X)\n",
    "\n",
    "activation1.forward_pass(dense1.output)\n"
   ]
  },
  {
   "cell_type": "code",
   "execution_count": 11,
   "metadata": {},
   "outputs": [
    {
     "name": "stdout",
     "output_type": "stream",
     "text": [
      "[[0.         0.         0.        ]\n",
      " [0.         0.00011395 0.        ]\n",
      " [0.         0.00031729 0.        ]\n",
      " [0.         0.00052666 0.        ]\n",
      " [0.         0.00071401 0.        ]]\n"
     ]
    }
   ],
   "source": [
    "print(activation1.output[:5])"
   ]
  },
  {
   "cell_type": "code",
   "execution_count": 12,
   "metadata": {},
   "outputs": [
    {
     "name": "stdout",
     "output_type": "stream",
     "text": [
      "Exponential Values : [121.51041752   3.35348465  10.85906266]\n",
      "Normalized Exponential Values : [0.89528266 0.02470831 0.08000903]\n",
      "Sum of Normalized Values : 0.9999999999999999\n"
     ]
    }
   ],
   "source": [
    "# SOFTMAX ACTIVATION FUNCTION\n",
    "\n",
    "layer_outputs = [4.8, 1.21, 2.385]\n",
    "\n",
    "# for each value, calculate the exp using np.exp\n",
    "exp_values = np.exp(layer_outputs)\n",
    "print(f\"Exponential Values : {exp_values}\")\n",
    "\n",
    "# Normalize the calculated values\n",
    "\n",
    "norm_values = exp_values / np.sum(exp_values)\n",
    "print(f\"Normalized Exponential Values : {norm_values}\")\n",
    "print(f\"Sum of Normalized Values : {np.sum(norm_values)}\")\n"
   ]
  },
  {
   "cell_type": "code",
   "execution_count": 15,
   "metadata": {},
   "outputs": [],
   "source": [
    "class Activation_Softmax:\n",
    "    def forward(self, inputs):\n",
    "        # unnormalized Probabilites\n",
    "        exp_values = np.exp(inputs - np.max(inputs, axis=1, \n",
    "                                            keepdims=True))\n",
    "        \n",
    "        # Normalize the values\n",
    "        probs = exp_values / np.sum(exp_values, axis=1,\n",
    "                                    keepdims=True)\n",
    "        \n",
    "        self.output = probs"
   ]
  },
  {
   "cell_type": "code",
   "execution_count": 16,
   "metadata": {},
   "outputs": [
    {
     "name": "stdout",
     "output_type": "stream",
     "text": [
      "[[0.09003057 0.24472847 0.66524096]]\n"
     ]
    }
   ],
   "source": [
    "softmax = Activation_Softmax()\n",
    "\n",
    "softmax.forward([[1,2,3]])\n",
    "print(softmax.output)"
   ]
  },
  {
   "cell_type": "code",
   "execution_count": 19,
   "metadata": {},
   "outputs": [],
   "source": [
    "# ZIPPING thE ENTIRE CODE\n",
    "\n",
    "dense1 = Layer_Dense(2,3)\n",
    "\n",
    "activation1 = Activation_RELU()\n",
    "\n",
    "dense2 = Layer_Dense(3,3)\n",
    "\n",
    "activation2 = Activation_Softmax()\n",
    "\n",
    "dense1.forward_pass(X)\n",
    "\n",
    "activation1.forward_pass(dense1.output)\n",
    "\n",
    "dense2.forward_pass(activation1.output)\n",
    "\n",
    "activation2.forward(dense2.output)\n"
   ]
  },
  {
   "cell_type": "code",
   "execution_count": 20,
   "metadata": {},
   "outputs": [
    {
     "name": "stdout",
     "output_type": "stream",
     "text": [
      "[[0.33333334 0.33333334 0.33333334]\n",
      " [0.33333334 0.33333334 0.33333334]\n",
      " [0.33333334 0.33333334 0.33333334]\n",
      " [0.3333335  0.33333305 0.3333335 ]\n",
      " [0.33333352 0.333333   0.33333352]]\n"
     ]
    }
   ],
   "source": [
    "print(activation2.output[:5])"
   ]
  },
  {
   "cell_type": "code",
   "execution_count": null,
   "metadata": {},
   "outputs": [],
   "source": []
  }
 ],
 "metadata": {
  "kernelspec": {
   "display_name": "Python 3 (ipykernel)",
   "language": "python",
   "name": "python3"
  },
  "language_info": {
   "codemirror_mode": {
    "name": "ipython",
    "version": 3
   },
   "file_extension": ".py",
   "mimetype": "text/x-python",
   "name": "python",
   "nbconvert_exporter": "python",
   "pygments_lexer": "ipython3",
   "version": "3.11.9"
  }
 },
 "nbformat": 4,
 "nbformat_minor": 4
}
