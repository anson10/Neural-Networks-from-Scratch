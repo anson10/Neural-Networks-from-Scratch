{
 "cells": [
  {
   "cell_type": "markdown",
   "id": "a6dd4ba2-553e-4059-a5a5-18c77d5963c0",
   "metadata": {},
   "source": [
    "### CODING OUR FIRST NEURONS"
   ]
  },
  {
   "cell_type": "code",
   "execution_count": 1,
   "id": "000d78a8-262e-406d-9c49-db32a5d0c139",
   "metadata": {},
   "outputs": [],
   "source": [
    "inputs = [1,2,3]\n",
    "weights = [0.2, 0.8, -0.5]\n",
    "bias = 2"
   ]
  },
  {
   "cell_type": "code",
   "execution_count": 2,
   "id": "c9e4cbe0-2718-4faa-84bc-dc3d43576310",
   "metadata": {},
   "outputs": [
    {
     "name": "stdout",
     "output_type": "stream",
     "text": [
      "2.3\n"
     ]
    }
   ],
   "source": [
    "output = (inputs[ 0 ] * weights[ 0 ] +\n",
    "inputs[1] * weights[1] +\n",
    "inputs[2] * weights[2] + bias)\n",
    "print (output)"
   ]
  },
  {
   "cell_type": "markdown",
   "id": "bc6b4e1d-2e8e-4004-9148-bb410d1b9042",
   "metadata": {},
   "source": [
    "### LAYER OF NEURONS"
   ]
  },
  {
   "cell_type": "code",
   "execution_count": 3,
   "id": "98ba0af3-d704-4602-aec7-5fc2f5388d25",
   "metadata": {},
   "outputs": [],
   "source": [
    "inputs = [ 1 , 2 , 3 , 2.5 ]\n",
    "weights = [[ 0.2 , 0.8 , -0.5 , 1],\n",
    "            [ 0.5 , -0.91 , 0.26 , -0.5],\n",
    "            [-0.26 , -0.27 , 0.17 , 0.87]]\n",
    "biases = [2 , 3 , 0.5]"
   ]
  },
  {
   "cell_type": "code",
   "execution_count": 4,
   "id": "a0ddb805-615c-41c1-ad4c-be58703e045d",
   "metadata": {},
   "outputs": [
    {
     "name": "stdout",
     "output_type": "stream",
     "text": [
      "[4.8, 1.21, 2.385]\n"
     ]
    }
   ],
   "source": [
    "layer_outputs = []\n",
    "\n",
    "for neuron_weights, neuron_bias in zip(weights, biases):\n",
    "    neuron_output = 0\n",
    "    for n_input, weight in zip(inputs, neuron_weights):\n",
    "        neuron_output += n_input*weight\n",
    "    neuron_output += neuron_bias\n",
    "    layer_outputs.append(neuron_output)\n",
    "print(layer_outputs)"
   ]
  },
  {
   "cell_type": "markdown",
   "id": "fbc7c032-6b93-4cb5-881a-d2525de8a813",
   "metadata": {},
   "source": [
    "### LAYER OF NEURONS AND BATCH OF DATA w/ NUMPY"
   ]
  },
  {
   "cell_type": "code",
   "execution_count": 6,
   "id": "574825cb-5f5e-460c-8a57-0810d33d6717",
   "metadata": {},
   "outputs": [
    {
     "name": "stdout",
     "output_type": "stream",
     "text": [
      "[[ 4.8    1.21   2.385]\n",
      " [ 8.9   -1.81   0.2  ]\n",
      " [ 1.41   1.051  0.026]]\n"
     ]
    }
   ],
   "source": [
    "import numpy as np\n",
    "inputs = [[ 1.0 , 2.0 , 3.0 , 2.5],\n",
    "            [ 2.0 , 5.0 , - 1.0 , 2.0],\n",
    "            [ - 1.5 , 2.7 , 3.3 , - 0.8]]\n",
    "weights = [[ 0.2 , 0.8 , - 0.5 , 1.0],\n",
    "[ 0.5 , - 0.91 , 0.26 , - 0.5],\n",
    "[ - 0.26 , - 0.27 , 0.17 , 0.87]]\n",
    "biases = [ 2.0 , 3.0 , 0.5 ]\n",
    "layer_outputs = np.dot(inputs, np.array(weights).T) + biases\n",
    "print (layer_outputs)"
   ]
  },
  {
   "cell_type": "code",
   "execution_count": null,
   "id": "58e949eb-6dbc-493f-881e-6b961632d1bd",
   "metadata": {},
   "outputs": [],
   "source": []
  }
 ],
 "metadata": {
  "kernelspec": {
   "display_name": "Python 3 (ipykernel)",
   "language": "python",
   "name": "python3"
  },
  "language_info": {
   "codemirror_mode": {
    "name": "ipython",
    "version": 3
   },
   "file_extension": ".py",
   "mimetype": "text/x-python",
   "name": "python",
   "nbconvert_exporter": "python",
   "pygments_lexer": "ipython3",
   "version": "3.11.9"
  }
 },
 "nbformat": 4,
 "nbformat_minor": 5
}
