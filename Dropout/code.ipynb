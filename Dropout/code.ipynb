{
 "cells": [
  {
   "cell_type": "code",
   "execution_count": 1,
   "metadata": {},
   "outputs": [],
   "source": [
    "import random"
   ]
  },
  {
   "cell_type": "code",
   "execution_count": null,
   "metadata": {},
   "outputs": [],
   "source": [
    "dropout_rate = 0.5\n",
    "\n",
    "#example using 10 outputs\n",
    "example_outputs = [0.11, -1.22, 0.87, 0.56, -0.38,\n",
    "                   0.99, 1.18, -0.01, 0.33, 0.76]\n",
    "\n",
    "#Repeat as long as necessary\n",
    "while True:\n",
    "    index = random.randint(0, len(example_outputs)-1)\n",
    "    example_outputs[index] = 0\n",
    "    \n",
    "    dropped_out = 0\n",
    "    for value in example_outputs:\n",
    "        if value==0:\n",
    "            dropped_out+=1\n",
    "    \n",
    "    if dropped_out / len(example_outputs) >= dropout_rate:\n",
    "        break\n",
    "\n",
    "print(example_outputs)\n"
   ]
  },
  {
   "cell_type": "code",
   "execution_count": 7,
   "metadata": {},
   "outputs": [],
   "source": [
    "import numpy as np"
   ]
  },
  {
   "cell_type": "code",
   "execution_count": 6,
   "metadata": {},
   "outputs": [],
   "source": [
    "# Backward pass\n",
    "\n",
    "#Dropout\n",
    "class Layer_Dropout:\n",
    "    def __init__(self, rate):\n",
    "        self.rate = 1 - rate\n",
    "        \n",
    "    #forward pass\n",
    "    def forward_pass(self,inputs):\n",
    "        self.inputs=inputs\n",
    "        self.binary_mask = np.random.binomial(1, self.rate, size=inputs.shape)/self.rate\n",
    "        self.output = inputs*self.binary_mask\n",
    "    \n",
    "    #backward pass\n",
    "    def backward(self, dvalues):\n",
    "        self.dinputs = dvalues * self.binary_mask\n",
    "        \n",
    "    "
   ]
  }
 ],
 "metadata": {
  "kernelspec": {
   "display_name": "tf",
   "language": "python",
   "name": "python3"
  },
  "language_info": {
   "codemirror_mode": {
    "name": "ipython",
    "version": 3
   },
   "file_extension": ".py",
   "mimetype": "text/x-python",
   "name": "python",
   "nbconvert_exporter": "python",
   "pygments_lexer": "ipython3",
   "version": "3.11.10"
  }
 },
 "nbformat": 4,
 "nbformat_minor": 2
}
