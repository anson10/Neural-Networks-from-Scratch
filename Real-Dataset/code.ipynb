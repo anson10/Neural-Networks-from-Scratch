{
 "cells": [
  {
   "cell_type": "markdown",
   "metadata": {},
   "source": [
    "### DATA PREPARATION"
   ]
  },
  {
   "cell_type": "code",
   "execution_count": 4,
   "metadata": {},
   "outputs": [],
   "source": [
    "URL = 'https://nnfs.io/datasets/fashion_mnist_images.zip'\n",
    "FILE = 'fashion_mnist_images.zip'\n",
    "FOLDER = 'fashion_mnist_images'"
   ]
  },
  {
   "cell_type": "code",
   "execution_count": 5,
   "metadata": {},
   "outputs": [],
   "source": [
    "import os\n",
    "import urllib\n",
    "import urllib.request\n",
    "\n",
    "if not os.path.isfile(FILE):\n",
    "    urllib.request.urlretrieve(URL, FILE) #downloads file if file not in path"
   ]
  },
  {
   "cell_type": "code",
   "execution_count": 6,
   "metadata": {},
   "outputs": [],
   "source": [
    "#unzip the downloaded files\n",
    "from zipfile import ZipFile\n",
    "with ZipFile(FILE) as zip_images:\n",
    "    zip_images.extractall(FOLDER)\n",
    "    "
   ]
  },
  {
   "cell_type": "markdown",
   "metadata": {},
   "source": [
    "### DATA LOADING"
   ]
  },
  {
   "cell_type": "code",
   "execution_count": 7,
   "metadata": {},
   "outputs": [
    {
     "name": "stdout",
     "output_type": "stream",
     "text": [
      "['5', '0', '4', '2', '6', '3', '1', '8', '7', '9']\n",
      "['4588.png', '5031.png', '3857.png', '4752.png', '5635.png', '2240.png', '3859.png', '1802.png', '3517.png', '1411.png']\n"
     ]
    }
   ],
   "source": [
    "labels = os.listdir('fashion_mnist_images/train')\n",
    "print(labels)\n",
    "files = os.listdir( 'fashion_mnist_images/train/0' )\n",
    "print(files[:10])"
   ]
  },
  {
   "cell_type": "code",
   "execution_count": 8,
   "metadata": {},
   "outputs": [],
   "source": [
    "# To handle image data, we’re going to make use of the Python\n",
    "# package containing OpenCV"
   ]
  },
  {
   "cell_type": "code",
   "execution_count": 9,
   "metadata": {},
   "outputs": [
    {
     "name": "stdout",
     "output_type": "stream",
     "text": [
      "[[  0   0   0   0   0   0   0   0   0   0   0   0   0   0   0   0   0   0\n",
      "    0   0   0   0   0   0   0   0   0   0]\n",
      " [  0   0   0   0   0   0   0   0   0   0   0   0   0   0   0   0   0   0\n",
      "    0   0   0   0   0   0   0   0   0   0]\n",
      " [  0   0   0   0   0   0   0   0   0   0   0   0   0   0   0   0   0   0\n",
      "    0   0   0   0   0   0   0   0   0   0]\n",
      " [  0   0   0   0   0   0   0   0   0   0   0   0   0   0   0   0   0   0\n",
      "    0   0   0   0   0   0   0   0   0   0]\n",
      " [  0   0   0   0   0   0   0   0   0   0   0   0   0   0   0   0   0   0\n",
      "    0   0   0   0   0   0   0   0   0   0]\n",
      " [  0   0   0   0   0   0   0   0   0   0   0   0   0   0   0   0   0   0\n",
      "    0   0   0   0   0   0   0   0   0   0]\n",
      " [  0   0   0   0   0   0   0   0   0   0   0   0   0   0   0   0   0   0\n",
      "    0   0   0   0   0   0   0   0   0   0]\n",
      " [  0   0   0   0   0   0   0   0   0   0   0   0   0   1   0   0   0  49\n",
      "  135 182 150  59   0   0   0   0   0   0]\n",
      " [  0   0   0   0   0   0   0   0   0   0   0   0   0   0   0   0  78 255\n",
      "  220 212 219 255 246 191 155  87   0   0]\n",
      " [  0   0   0   0   0   0   0   0   0   0   0   0   1   0   0  57 206 215\n",
      "  203 191 203 212 216 217 220 211  15   0]\n",
      " [  0   0   0   0   0   0   0   0   0   0   1   0   0   0  58 231 220 210\n",
      "  199 209 218 218 217 208 200 215  56   0]\n",
      " [  0   0   0   0   1   2   0   0   4   0   0   0   0 145 213 207 199 187\n",
      "  203 210 216 217 215 215 206 215 130   0]\n",
      " [  0   0   0   0   1   2   4   0   0   0   3 105 225 205 190 201 210 214\n",
      "  213 215 215 212 211 208 205 207 218   0]\n",
      " [  1   5   7   0   0   0   0   0  52 162 217 189 174 157 187 198 202 217\n",
      "  220 223 224 222 217 211 217 201 247  65]\n",
      " [  0   0   0   0   0   0  21  72 185 189 171 171 185 203 200 207 208 209\n",
      "  214 219 222 222 224 215 218 211 212 148]\n",
      " [  0  70 114 129 145 159 179 196 172 176 185 196 199 206 201 210 212 213\n",
      "  216 218 219 217 212 207 208 200 198 173]\n",
      " [  0 122 158 184 194 192 193 196 203 209 211 211 215 218 221 222 226 227\n",
      "  227 226 226 223 222 216 211 208 216 185]\n",
      " [ 21   0   0  12  48  82 123 152 170 184 195 211 225 232 233 237 242 242\n",
      "  240 240 238 236 222 209 200 193 185 106]\n",
      " [ 26  47  54  18   5   0   0   0   0   0   0   0   0   0   2   4   6   9\n",
      "    9   8   9   6   6   4   2   0   0   0]\n",
      " [  0  10  27  45  55  59  57  50  44  51  58  62  65  56  54  57  59  61\n",
      "   60  63  68  67  66  73  77  74  65  39]\n",
      " [  0   0   0   0   4   9  18  23  26  25  23  25  29  37  38  37  39  36\n",
      "   29  31  33  34  28  24  20  14   7   0]\n",
      " [  0   0   0   0   0   0   0   0   0   0   0   0   0   0   0   0   0   0\n",
      "    0   0   0   0   0   0   0   0   0   0]\n",
      " [  0   0   0   0   0   0   0   0   0   0   0   0   0   0   0   0   0   0\n",
      "    0   0   0   0   0   0   0   0   0   0]\n",
      " [  0   0   0   0   0   0   0   0   0   0   0   0   0   0   0   0   0   0\n",
      "    0   0   0   0   0   0   0   0   0   0]\n",
      " [  0   0   0   0   0   0   0   0   0   0   0   0   0   0   0   0   0   0\n",
      "    0   0   0   0   0   0   0   0   0   0]\n",
      " [  0   0   0   0   0   0   0   0   0   0   0   0   0   0   0   0   0   0\n",
      "    0   0   0   0   0   0   0   0   0   0]\n",
      " [  0   0   0   0   0   0   0   0   0   0   0   0   0   0   0   0   0   0\n",
      "    0   0   0   0   0   0   0   0   0   0]\n",
      " [  0   0   0   0   0   0   0   0   0   0   0   0   0   0   0   0   0   0\n",
      "    0   0   0   0   0   0   0   0   0   0]]\n"
     ]
    }
   ],
   "source": [
    "import cv2 \n",
    "image_data = cv2.imread('fashion_mnist_images/train/7/0002.png',\n",
    "                        cv2.IMREAD_UNCHANGED)\n",
    "print(image_data)"
   ]
  },
  {
   "cell_type": "code",
   "execution_count": 10,
   "metadata": {},
   "outputs": [
    {
     "data": {
      "image/png": "[encoded data removed]",
      "text/plain": [
       "<Figure size 640x480 with 1 Axes>"
      ]
     },
     "metadata": {},
     "output_type": "display_data"
    }
   ],
   "source": [
    "import matplotlib.pyplot as plt\n",
    "plt.imshow(image_data)\n",
    "plt.show()"
   ]
  },
  {
   "cell_type": "code",
   "execution_count": 11,
   "metadata": {},
   "outputs": [
    {
     "data": {
      "image/png": "[encoded data removed]",
      "text/plain": [
       "<Figure size 640x480 with 1 Axes>"
      ]
     },
     "metadata": {},
     "output_type": "display_data"
    }
   ],
   "source": [
    "import matplotlib.pyplot as plt\n",
    "image_data = cv2.imread('fashion_mnist_images/train/4/0034.png' ,\n",
    "                        cv2.IMREAD_UNCHANGED)\n",
    "plt.imshow(image_data, cmap = 'gray') #\n",
    "plt.show()"
   ]
  },
  {
   "cell_type": "code",
   "execution_count": 12,
   "metadata": {},
   "outputs": [],
   "source": [
    "# scan all directories and create a list of labels\n",
    "\n",
    "X = []\n",
    "y = []\n",
    "\n",
    "for label in labels:\n",
    "    for file in os.listdir(os.path.join(\n",
    "        'fashion_mnist_images', 'train', label)):\n",
    "        image = cv2.imread(os.path.join(\n",
    "            'fashion_mnist_images/train', label, file), cv2.IMREAD_UNCHANGED)\n",
    "        \n",
    "        X.append(image)\n",
    "        y.append(label)"
   ]
  },
  {
   "cell_type": "code",
   "execution_count": 13,
   "metadata": {},
   "outputs": [],
   "source": [
    "import numpy as np\n",
    "\n",
    "# Loading MNIST dataset\n",
    "def load_mnist_dataset(dataset, path):\n",
    "    X = []\n",
    "    y = []\n",
    "\n",
    "    for label in labels:\n",
    "        for file in os.listdir(os.path.join(\n",
    "            path, dataset, label)):\n",
    "            image = cv2.imread(os.path.join(\n",
    "                    path , dataset, label, file), cv2.IMREAD_UNCHANGED)\n",
    "            \n",
    "            X.append(image)\n",
    "            y.append(label)\n",
    "    return np.array(X), np.array(y).astype('uint8')\n",
    "\n",
    "# create dataset\n",
    "def create_data_mnist(path):\n",
    "    X, y =load_mnist_dataset('train', path)\n",
    "    X_test, y_test = load_mnist_dataset('test', path)\n",
    "    \n",
    "    return X, y, X_test, y_test"
   ]
  },
  {
   "cell_type": "code",
   "execution_count": 14,
   "metadata": {},
   "outputs": [],
   "source": [
    "X, y, X_test, y_test = create_data_mnist('fashion_mnist_images')"
   ]
  },
  {
   "cell_type": "markdown",
   "metadata": {},
   "source": [
    "### DATA PREPROCESSING"
   ]
  },
  {
   "cell_type": "code",
   "execution_count": 15,
   "metadata": {},
   "outputs": [],
   "source": [
    "# scaling the data to -1 to 1 or 0 to 1\n",
    "\n",
    "# scale features\n",
    "# Scale to -1 to 1\n",
    "X = (X.astype(np.float32) - 127.5) / 127.5\n",
    "X_test = (X_test.astype(np.float32) - 127.5) / 127.5\n"
   ]
  },
  {
   "cell_type": "code",
   "execution_count": 16,
   "metadata": {},
   "outputs": [],
   "source": [
    "# flatten the dataset \n",
    "\n",
    "X = X.reshape(X.shape[0], -1)\n",
    "X_test = X_test.reshape(X_test.shape[0], -1)"
   ]
  },
  {
   "cell_type": "markdown",
   "metadata": {},
   "source": [
    "### DATA SHUFFLING"
   ]
  },
  {
   "cell_type": "code",
   "execution_count": 17,
   "metadata": {},
   "outputs": [
    {
     "name": "stdout",
     "output_type": "stream",
     "text": [
      "[0 1 2 3 4 5 6 7 8 9]\n"
     ]
    }
   ],
   "source": [
    "keys = np.array(range(X.shape[0]))\n",
    "print(keys[:10])"
   ]
  },
  {
   "cell_type": "code",
   "execution_count": 18,
   "metadata": {},
   "outputs": [
    {
     "name": "stdout",
     "output_type": "stream",
     "text": [
      "[ 3048 19563 58303  8870 40228 31488 21860 56864   845 25770]\n"
     ]
    }
   ],
   "source": [
    "import nnfs\n",
    "\n",
    "nnfs.init()\n",
    "\n",
    "np.random.shuffle(keys)\n",
    "print(keys[:10])"
   ]
  },
  {
   "cell_type": "code",
   "execution_count": 34,
   "metadata": {},
   "outputs": [],
   "source": [
    "from nnfs.datasets import spiral_data\n",
    "\n",
    "nnfs.init()\n",
    "\n",
    "X, y = spiral_data(samples=100, classes=3)\n",
    "\n",
    "EPOCHS = 10\n",
    "BATCH_SIZE = 128\n",
    "\n",
    "steps = X.shape[0] // BATCH_SIZE\n",
    "\n",
    "if steps * BATCH_SIZE < X.shape[0]:\n",
    "    steps+=1\n",
    "    \n",
    "for epoch in range (EPOCHS):\n",
    "    for step in range (steps):\n",
    "        batch_X = X[step * BATCH_SIZE:(step + 1) * BATCH_SIZE]\n",
    "        batch_y = y[step * BATCH_SIZE:(step + 1) * BATCH_SIZE]\n",
    "        "
   ]
  },
  {
   "cell_type": "code",
   "execution_count": 35,
   "metadata": {},
   "outputs": [],
   "source": [
    "import numpy as np\n",
    "\n",
    "class Loss:\n",
    "    # Set/remember trainable layers\n",
    "    def remember_trainable_layers(self, trainable_layers):\n",
    "        self.trainable_layers = trainable_layers\n",
    "\n",
    "    # Regularization loss calculation\n",
    "    def regularization_loss(self):\n",
    "        # Initialize regularization loss to 0\n",
    "        regularization_loss = 0\n",
    "        \n",
    "        # Calculate regularization loss for all trainable layers\n",
    "        for layer in self.trainable_layers:\n",
    "            # L1 regularization - weights\n",
    "            if layer.weight_regularizer_l1 > 0:\n",
    "                regularization_loss += layer.weight_regularizer_l1 * np.sum(np.abs(layer.weights))\n",
    "            \n",
    "            # L2 regularization - weights\n",
    "            if layer.weight_regularizer_l2 > 0:\n",
    "                regularization_loss += layer.weight_regularizer_l2 * np.sum(layer.weights * layer.weights)\n",
    "            \n",
    "            # L1 regularization - biases\n",
    "            if layer.bias_regularizer_l1 > 0:\n",
    "                regularization_loss += layer.bias_regularizer_l1 * np.sum(np.abs(layer.biases))\n",
    "            \n",
    "            # L2 regularization - biases\n",
    "            if layer.bias_regularizer_l2 > 0:\n",
    "                regularization_loss += layer.bias_regularizer_l2 * np.sum(layer.biases * layer.biases)\n",
    "        \n",
    "        return regularization_loss\n",
    "\n",
    "    # Calculates the data and regularization losses\n",
    "    def calculate(self, output, y, *, include_regularization=False):\n",
    "        # Calculate sample losses\n",
    "        sample_losses = self.forward(output, y)\n",
    "\n",
    "        # Calculate mean loss\n",
    "        data_loss = np.mean(sample_losses)\n",
    "\n",
    "        # Add accumulated sum of losses and sample count\n",
    "        self.accumulated_sum += np.sum(sample_losses)\n",
    "        self.accumulated_count += len(sample_losses)\n",
    "\n",
    "        # If just data loss - return it\n",
    "        if not include_regularization:\n",
    "            return data_loss\n",
    "\n",
    "        # Return the data and regularization losses\n",
    "        return data_loss, self.regularization_loss()\n",
    "\n",
    "    # Calculates accumulated loss\n",
    "    def calculate_accumulated(self, *, include_regularization=False):\n",
    "        # Calculate mean loss\n",
    "        data_loss = self.accumulated_sum / self.accumulated_count\n",
    "\n",
    "        # If just data loss - return it\n",
    "        if not include_regularization:\n",
    "            return data_loss\n",
    "\n",
    "        # Return the data and regularization losses\n",
    "        return data_loss, self.regularization_loss()\n",
    "\n",
    "    # Reset variables for accumulated loss\n",
    "    def new_pass(self):\n",
    "        self.accumulated_sum = 0\n",
    "        self.accumulated_count = 0\n"
   ]
  },
  {
   "cell_type": "code",
   "execution_count": 36,
   "metadata": {},
   "outputs": [],
   "source": [
    "import numpy as np\n",
    "\n",
    "class Accuracy:\n",
    "    # Calculates an accuracy given predictions and ground truth values\n",
    "    def calculate(self, predictions, y):\n",
    "        # Get comparison results\n",
    "        comparisons = self.compare(predictions, y)\n",
    "\n",
    "        # Calculate accuracy\n",
    "        accuracy = np.mean(comparisons)\n",
    "\n",
    "        # Add accumulated sum of matching values and sample count\n",
    "        self.accumulated_sum += np.sum(comparisons)\n",
    "        self.accumulated_count += len(comparisons)\n",
    "\n",
    "        # Return accuracy\n",
    "        return accuracy\n",
    "\n",
    "    # Calculates accumulated accuracy\n",
    "    def calculate_accumulated(self):\n",
    "        # Calculate accuracy\n",
    "        accuracy = self.accumulated_sum / self.accumulated_count\n",
    "\n",
    "        # Return accumulated accuracy\n",
    "        return accuracy\n",
    "\n",
    "    # Reset variables for accumulated accuracy\n",
    "    def new_pass(self):\n",
    "        self.accumulated_sum = 0\n",
    "        self.accumulated_count = 0\n"
   ]
  },
  {
   "cell_type": "code",
   "execution_count": 37,
   "metadata": {},
   "outputs": [],
   "source": [
    "def train(self, X, y, *, epochs=1, batch_size=None, print_every=1, validation_data=None):\n",
    "    # Default value if batch size is not set\n",
    "    train_steps = 1\n",
    "\n",
    "    # If there is validation data passed, set default number of steps for validation as well\n",
    "    if validation_data is not None:\n",
    "        validation_steps = 1\n",
    "        # For better readability\n",
    "        X_val, y_val = validation_data\n",
    "\n",
    "    # Calculate number of steps\n",
    "    if batch_size is not None:\n",
    "        train_steps = len(X) // batch_size\n",
    "        # If there are remaining data, add 1 to include the not full batch\n",
    "        if train_steps * batch_size < len(X):\n",
    "            train_steps += 1\n",
    "\n",
    "        if validation_data is not None:\n",
    "            validation_steps = len(X_val) // batch_size\n",
    "            # If there are remaining data, add 1 to include the not full batch\n",
    "            if validation_steps * batch_size < len(X_val):\n",
    "                validation_steps += 1\n",
    "\n",
    "    # Print epoch number\n",
    "    for epoch in range(epochs):\n",
    "        print(f'epoch: {epoch}')\n",
    "\n",
    "        # Reset accumulated values in loss and accuracy objects\n",
    "        self.loss.new_pass()\n",
    "        self.accuracy.new_pass()\n",
    "\n",
    "        # Iterate over training steps\n",
    "        for step in range(train_steps):\n",
    "            # If batch size is not set, train using one step and full dataset\n",
    "            if batch_size is None:\n",
    "                batch_X = X\n",
    "                batch_y = y\n",
    "            else:\n",
    "                # Slice a batch\n",
    "                batch_X = X[step * batch_size:(step + 1) * batch_size]\n",
    "                batch_y = y[step * batch_size:(step + 1) * batch_size]\n",
    "\n",
    "            # Perform the forward pass\n",
    "            output = self.forward(batch_X, training=True)\n",
    "\n",
    "            # Calculate loss\n",
    "            data_loss, regularization_loss = self.loss.calculate(\n",
    "                output, batch_y, include_regularization=True)\n",
    "            loss = data_loss + regularization_loss\n",
    "\n",
    "            # Get predictions and calculate accuracy\n",
    "            predictions = self.output_layer_activation.predictions(output)\n",
    "            accuracy = self.accuracy.calculate(predictions, batch_y)\n",
    "\n",
    "            # Perform backward pass\n",
    "            self.backward(output, batch_y)\n",
    "\n",
    "            # Optimize (update parameters)\n",
    "            self.optimizer.pre_update_params()\n",
    "            for layer in self.trainable_layers:\n",
    "                self.optimizer.update_params(layer)\n",
    "            self.optimizer.post_update_params()\n",
    "\n",
    "            # Print a summary\n",
    "            if step % print_every == 0 or step == train_steps - 1:\n",
    "                print(f'step: {step}, acc: {accuracy:.3f}, loss: {loss:.3f} '\n",
    "                      f'(data_loss: {data_loss:.3f}, reg_loss: {regularization_loss:.3f}), '\n",
    "                      f'lr: {self.optimizer.current_learning_rate}')\n",
    "\n",
    "        # Get and print epoch loss and accuracy\n",
    "        epoch_data_loss, epoch_regularization_loss = self.loss.calculate_accumulated(\n",
    "            include_regularization=True)\n",
    "        epoch_loss = epoch_data_loss + epoch_regularization_loss\n",
    "        epoch_accuracy = self.accuracy.calculate_accumulated()\n",
    "        \n",
    "        print(f'training, acc: {epoch_accuracy:.3f}, loss: {epoch_loss:.3f} '\n",
    "              f'(data_loss: {epoch_data_loss:.3f}, reg_loss: {epoch_regularization_loss:.3f}), '\n",
    "              f'lr: {self.optimizer.current_learning_rate}')\n",
    "\n",
    "        if validation_data is not None:\n",
    "            # Reset accumulated values in loss and accuracy objects\n",
    "            self.loss.new_pass()\n",
    "            self.accuracy.new_pass()\n",
    "\n",
    "            # Iterate over validation steps\n",
    "            for step in range(validation_steps):\n",
    "                # If batch size is not set, use full dataset\n",
    "                if batch_size is None:\n",
    "                    batch_X = X_val\n",
    "                    batch_y = y_val\n",
    "                else:\n",
    "                    # Slice a batch\n",
    "                    batch_X = X_val[step * batch_size:(step + 1) * batch_size]\n",
    "                    batch_y = y_val[step * batch_size:(step + 1) * batch_size]\n",
    "\n",
    "                # Perform the forward pass\n",
    "                output = self.forward(batch_X, training=False)\n",
    "\n",
    "                # Calculate the loss\n",
    "                self.loss.calculate(output, batch_y)\n",
    "\n",
    "                # Get predictions and calculate accuracy\n",
    "                predictions = self.output_layer_activation.predictions(output)\n",
    "                self.accuracy.calculate(predictions, batch_y)\n",
    "\n",
    "            # Get and print validation loss and accuracy\n",
    "            validation_loss = self.loss.calculate_accumulated()\n",
    "            validation_accuracy = self.accuracy.calculate_accumulated()\n",
    "            print(f'validation, acc: {validation_accuracy:.3f}, loss: {validation_loss:.3f}')\n"
   ]
  },
  {
   "cell_type": "code",
   "execution_count": null,
   "metadata": {},
   "outputs": [],
   "source": []
  }
 ],
 "metadata": {
  "kernelspec": {
   "display_name": "tf",
   "language": "python",
   "name": "python3"
  },
  "language_info": {
   "codemirror_mode": {
    "name": "ipython",
    "version": 3
   },
   "file_extension": ".py",
   "mimetype": "text/x-python",
   "name": "python",
   "nbconvert_exporter": "python",
   "pygments_lexer": "ipython3",
   "version": "3.10.15"
  }
 },
 "nbformat": 4,
 "nbformat_minor": 2
}
